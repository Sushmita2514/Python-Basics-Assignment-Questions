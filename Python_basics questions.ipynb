{
  "cells": [
    {
      "cell_type": "markdown",
      "metadata": {
        "id": "9U-p3t8qMkfQ"
      },
      "source": [
        "#Python Basics Questions"
      ]
    },
    {
      "cell_type": "markdown",
      "metadata": {
        "id": "ac3oAroNNWJK"
      },
      "source": [
        "1.\tWhat is Python, and why is it popular?\n",
        "- Python is a high-level, general-purpose, interpreted programming language created by Guido van Rossum in 1991. It supports multiple programming paradigms, including object-oriented, procedural, and functional programming. Python is widely used in web development, data science, machine learning, artificial intelligence, and more due to its simplicity, readability, and vast ecosystem of libraries and frameworks. Key reasons for Python's popularity include:\n",
        "\n",
        "- 1. Ease of Learning: Its syntax is simple and resembles natural language, making it beginner-friendly\n",
        "\n",
        "- 2. Versatility: Python is used in diverse fields like web development, data analysis, automation, and artificial intelligence\n",
        "\n",
        "- 3. Community Support: A large and active community provides extensive resources and support for developers\n",
        "\n",
        "\n",
        "2. What is an Interpreter in Python?\n",
        "- An interpreter in Python is a program that reads and executes Python code line by line, converting high-level instructions into machine-readable code. It performs lexical analysis, parsing, compilation into bytecode, and execution on the Python Virtual Machine (PVM)\n",
        "\n",
        "\n",
        "3. What are Pre-defined Keywords in Python?\n",
        "- Pre-defined keywords are reserved words in Python that have specific meanings and cannot be used for other purposes, such as variable names. Examples include if, else, while, for, def, return, and import.\n",
        "\n",
        "\n",
        "4. Can Keywords Be Used as Variable Names?\n",
        "- No, keywords cannot be used as variable names because they are reserved for specific functionalities in the Python language.\n",
        "\n",
        "\n",
        "5. What is Mutability in Python?\n",
        "- Mutability refers to whether an object can be modified after it is created. Mutable objects, like lists and dictionaries, allow changes to their content, while immutable objects, like tuples and strings, do not.\n",
        "\n",
        "\n",
        "6. Why Are Lists Mutable but Tuples Immutable?\n",
        "- Lists are mutable because their internal structure allows modifications like adding or removing elements.\n",
        "-Tuples are immutable because they are designed to represent fixed collections of items, making them hashable and suitable for use as keys in dictionaries.\n",
        "\n",
        "\n",
        "7. Difference Between “==” and “is” Operators in Python\n",
        "- ==: Compares the values of two objects.\n",
        "- is: Compares the memory locations (identity) of two objects.\n",
        "\n",
        "\n",
        "8. What Are Logical Operators in Python?\n",
        "- Logical operators include:\n",
        "-and: Returns True if both conditions are true.\n",
        "- or: Returns True if at least one condition is true.\n",
        "- not: Negates the condition.\n",
        "\n",
        "\n",
        "9. What is Type Casting in Python?\n",
        "- Type casting is converting a variable from one data type to another, e.g., int(\"5\") converts a string to an integer.\n",
        "\n",
        "\n",
        "10. Difference Between Implicit and Explicit Type Casting\n",
        "- Implicit Type Casting: Done automatically by Python when mixing data types (e.g., adding an integer to a float).\n",
        "- Explicit Type Casting: Done manually using functions like int(), float(), or str().\n",
        "\n",
        "\n",
        "11. Purpose of Conditional Statements in Python\n",
        "- Conditional statements in Python are essential programming constructs that allow decision-making within a program. They enable the execution of specific blocks of code based on whether certain conditions are met, making programs dynamic and adaptable to varying inputs or scenarios. Key Functions of Conditional Statements:\n",
        "- 1. Control Flow:Conditional statements guide the logical flow of a program, enabling it to execute different code paths based on conditions. Without them, programs would execute sequentially without flexibility.\n",
        "- 2. Decision Making:These statements evaluate Boolean expressions (true or false) to decide which block of code should run. For example, an if statement executes its block only if the condition evaluates to True; otherwise, it skips the block.\n",
        "- 3. Handling Multiple Scenarios:Python supports if, if-else, and elif statements to handle multiple conditions efficiently. This allows programs to respond differently under various circumstances.\n",
        "\n",
        "\n",
        "12. How does the elif statement work?\n",
        "- The elif statement in Python, short for \"else if,\" works as follows:\n",
        "- It is used after an initial if statement and before an optional else statement.\n",
        "- It allows for checking multiple conditions sequentially.\n",
        "- If the preceding if or elif conditions are false, the elif condition is evaluated.\n",
        "- If the elif condition is true, its associated code block is executed.\n",
        "- If the elif condition is false, the program moves to the next elif (if any) or the else block (if present)\n",
        "\n",
        "\n",
        "13.  What is the difference between for and while loops?\n",
        "- for loops:\n",
        "- 1. Used for iterating over a sequence (like a list, tuple, or string) or other iterable objects.\n",
        "- 2. The number of iterations is typically known in advance.\n",
        "- 3. The number of iterations is typically known in advance.\n",
        "\n",
        "- while loops:\n",
        "- 1. Used to execute a block of code repeatedly as long as a condition is true.\n",
        "- 2. The number of iterations is not necessarily known in advance.\n",
        "- 3. Requires manual updating of the loop condition.\n",
        "\n",
        "\n",
        "14. Describe a scenario where a while loop is more suitable than a for loop.\n",
        "- Imagine you're creating a program that asks a user to enter a password. You want to keep prompting the user until they enter the correct password. In this case, a while loop is more appropriate because you don't know in advance how many attempts the user will need. Here's an example:\n"
      ]
    },
    {
      "cell_type": "code",
      "execution_count": null,
      "metadata": {
        "colab": {
          "background_save": true,
          "base_uri": "https://localhost:8080/"
        },
        "id": "ol8PqUsQbjao",
        "outputId": "9f30f5e6-545c-4d5d-ad5d-46c9e8499ea8"
      },
      "outputs": [
        {
          "name": "stdout",
          "output_type": "stream",
          "text": [
            "Incorrect password. Try again.\n",
            "Incorrect password. Try again.\n",
            "Incorrect password. Try again.\n",
            "Incorrect password. Try again.\n",
            "Incorrect password. Try again.\n"
          ]
        }
      ],
      "source": [
        "correct_password = \"sushmita123\"\n",
        "user_input = \"\"\n",
        "\n",
        "while user_input != correct_password:\n",
        "    user_input = input(\"Enter the password: \")\n",
        "    if user_input != correct_password:\n",
        "        print(\"Incorrect password. Try again.\")\n",
        "\n",
        "print(\"Access granted!\")\n"
      ]
    },
    {
      "cell_type": "markdown",
      "metadata": {
        "id": "3VBc4t0xdOS8"
      },
      "source": [
        "- In this scenario, a while loop is better because it continues to execute until the correct password is entered, regardless of the number of attempts. A for loop would be less suitable here since we don't know the number of iterations required beforehand."
      ]
    },
    {
      "cell_type": "markdown",
      "metadata": {
        "id": "S6DnREj-eWvX"
      },
      "source": [
        "# Practical Questions"
      ]
    },
    {
      "cell_type": "markdown",
      "source": [
        "1. Write a Python program to print \"Hello, World!"
      ],
      "metadata": {
        "id": "VgcWLR8DZXj5"
      }
    },
    {
      "cell_type": "code",
      "execution_count": null,
      "metadata": {
        "id": "nuYu4xWNjYKW",
        "colab": {
          "base_uri": "https://localhost:8080/"
        },
        "outputId": "36173932-a93a-403b-d6bf-2ff45e56dc61"
      },
      "outputs": [
        {
          "output_type": "stream",
          "name": "stdout",
          "text": [
            "Hello, World\n"
          ]
        }
      ],
      "source": [
        "print(\"Hello, World\")"
      ]
    },
    {
      "cell_type": "markdown",
      "source": [
        "2. Write a Python program that displays your name and age"
      ],
      "metadata": {
        "id": "b_CDPsmBZdGh"
      }
    },
    {
      "cell_type": "code",
      "execution_count": null,
      "metadata": {
        "id": "0W0lMFWmjlTT",
        "colab": {
          "base_uri": "https://localhost:8080/"
        },
        "outputId": "b09368f8-3fa1-48ee-f79e-73da4e65507d"
      },
      "outputs": [
        {
          "output_type": "stream",
          "name": "stdout",
          "text": [
            "My name is Sushmita Yadav\n",
            "I am 24 years old\n"
          ]
        }
      ],
      "source": [
        "name = \"Sushmita Yadav\"\n",
        "age = 24\n",
        "\n",
        "# Display output\n",
        "print(\"My name is\", name)\n",
        "print(\"I am\", age, \"years old\")"
      ]
    },
    {
      "cell_type": "markdown",
      "source": [
        "3. Write code to print all the pre-defined keywords in Python using the keyword library"
      ],
      "metadata": {
        "id": "kCiiy_5eZt3S"
      }
    },
    {
      "cell_type": "code",
      "source": [
        "help ('keywords')"
      ],
      "metadata": {
        "colab": {
          "base_uri": "https://localhost:8080/"
        },
        "id": "HZ_1sMe9ZyTx",
        "outputId": "07b74792-532c-4b72-925e-1c6d6e75321f"
      },
      "execution_count": null,
      "outputs": [
        {
          "output_type": "stream",
          "name": "stdout",
          "text": [
            "\n",
            "Here is a list of the Python keywords.  Enter any keyword to get more help.\n",
            "\n",
            "False               class               from                or\n",
            "None                continue            global              pass\n",
            "True                def                 if                  raise\n",
            "and                 del                 import              return\n",
            "as                  elif                in                  try\n",
            "assert              else                is                  while\n",
            "async               except              lambda              with\n",
            "await               finally             nonlocal            yield\n",
            "break               for                 not                 \n",
            "\n"
          ]
        }
      ]
    },
    {
      "cell_type": "markdown",
      "source": [
        "4. Write a program that checks if a given word is a Python keyword"
      ],
      "metadata": {
        "id": "Jh6oj4vtbG96"
      }
    },
    {
      "cell_type": "code",
      "source": [
        "import keyword\n",
        "\n",
        "def is_keyword(word):\n",
        "    return keyword.iskeyword(word)\n",
        "\n",
        "word1 = \"class\"\n",
        "word2 = \"Sushmita\"\n",
        "\n",
        "print(f\"'{word1}' is a keyword: {is_keyword(word1)}\")\n",
        "print(f\"'{word2}' is a keyword: {is_keyword(word2)}\")"
      ],
      "metadata": {
        "colab": {
          "base_uri": "https://localhost:8080/"
        },
        "id": "DDQvKYFdeqwD",
        "outputId": "3ea7a4fa-f083-48bd-84c2-806a460e9c03"
      },
      "execution_count": null,
      "outputs": [
        {
          "output_type": "stream",
          "name": "stdout",
          "text": [
            "'class' is a keyword: True\n",
            "'Sushmita' is a keyword: False\n"
          ]
        }
      ]
    },
    {
      "cell_type": "markdown",
      "source": [
        "5. Create a list and tuple in Python, and demonstrate how attempting to change an element works differently  for each."
      ],
      "metadata": {
        "id": "c1qNdPPPfLYb"
      }
    },
    {
      "cell_type": "code",
      "source": [
        "# Creating a list and a tuple\n",
        "my_list = [1, 2, 3, 100, 200]\n",
        "my_tuple = (1, 2, 3, 4, 5, 2.5)\n",
        "\n",
        "# Attempting to modify an element in the list\n",
        "print(\"Original list:\", my_list)\n",
        "try:\n",
        "    my_list[1] = 99\n",
        "    print(\"Modified list:\", my_list)\n",
        "except TypeError as e:\n",
        "    print(\"Error while modifying the list:\", e)\n",
        "\n",
        "# Attempting to modify an element in the tuple\n",
        "print(\"\\nOriginal tuple:\", my_tuple)\n",
        "try:\n",
        "    my_tuple[1] = 99  # Modifying the second element\n",
        "    print(\"Modified tuple:\", my_tuple)\n",
        "except TypeError as e:\n",
        "    print(\"Error while modifying the tuple:\", e)"
      ],
      "metadata": {
        "colab": {
          "base_uri": "https://localhost:8080/"
        },
        "id": "R1jfbXMdgWj7",
        "outputId": "3b629908-03de-4945-9b94-23182a183ffc"
      },
      "execution_count": null,
      "outputs": [
        {
          "output_type": "stream",
          "name": "stdout",
          "text": [
            "Original list: [1, 2, 3, 100, 200]\n",
            "Modified list: [1, 99, 3, 100, 200]\n",
            "\n",
            "Original tuple: (1, 2, 3, 4, 5, 2.5)\n",
            "Error while modifying the tuple: 'tuple' object does not support item assignment\n"
          ]
        }
      ]
    },
    {
      "cell_type": "markdown",
      "source": [
        "6. Write a function to demonstrate the behavior of mutable and immutable arguments."
      ],
      "metadata": {
        "id": "ryEBRIcjheLD"
      }
    },
    {
      "cell_type": "code",
      "source": [
        "def modify_arguments(mutable_arg, immutable_arg):\n",
        "    print(\"Before modification:\")\n",
        "    print(f\"Mutable argument (list): {mutable_arg}\")\n",
        "    print(f\"Immutable argument (string): {immutable_arg}\")\n",
        "\n",
        "    # Modifying the mutable argument\n",
        "    mutable_arg.append(100)\n",
        "\n",
        "    # Attempting to modify the immutable argument\n",
        "    immutable_arg += \" World\"\n",
        "\n",
        "    print(\"\\nAfter modification:\")\n",
        "    print(f\"Mutable argument (list): {mutable_arg}\")\n",
        "    print(f\"Immutable argument (string): {immutable_arg}\")\n",
        "\n",
        "if __name__ == \"__main__\":\n",
        "    # Creating a mutable list and an immutable string\n",
        "    mutable_list = [1, 2, 3]\n",
        "    immutable_string = \"Hello\"\n",
        "\n",
        "    # Calling the function with both arguments\n",
        "    modify_arguments(mutable_list, immutable_string)\n",
        "\n",
        "    # Checking the values outside the function\n",
        "    print(\"\\nOutside the function:\")\n",
        "    print(f\"Mutable list: {mutable_list}\")\n",
        "    print(f\"Immutable string: {immutable_string}\")"
      ],
      "metadata": {
        "colab": {
          "base_uri": "https://localhost:8080/"
        },
        "id": "MNagvH0TOK7x",
        "outputId": "a683c7b4-b0f7-4a16-fa23-e8427e1cc89f"
      },
      "execution_count": 1,
      "outputs": [
        {
          "output_type": "stream",
          "name": "stdout",
          "text": [
            "Before modification:\n",
            "Mutable argument (list): [1, 2, 3]\n",
            "Immutable argument (string): Hello\n",
            "\n",
            "After modification:\n",
            "Mutable argument (list): [1, 2, 3, 100]\n",
            "Immutable argument (string): Hello World\n",
            "\n",
            "Outside the function:\n",
            "Mutable list: [1, 2, 3, 100]\n",
            "Immutable string: Hello\n"
          ]
        }
      ]
    },
    {
      "cell_type": "markdown",
      "source": [
        "7. Write a program to demonstrate the use of logical operators.\n",
        "\n"
      ],
      "metadata": {
        "id": "fCLk4vZVOojw"
      }
    },
    {
      "cell_type": "code",
      "source": [
        "def logical_operators_demo(a, b):\n",
        "    \"\"\"\n",
        "    Demonstrates the use of logical operators (and, or, not).\n",
        "\n",
        "    :param a: Boolean value\n",
        "    :param b: Boolean value\n",
        "    \"\"\"\n",
        "    print(f\"Values: a = {a}, b = {b}\")\n",
        "\n",
        "    # Logical AND\n",
        "    print(f\"a and b: {a and b}\")\n",
        "\n",
        "    # Logical OR\n",
        "    print(f\"a or b: {a or b}\")\n",
        "\n",
        "    # Logical NOT\n",
        "    print(f\"not a: {not a}\")\n",
        "    print(f\"not b: {not b}\")\n",
        "\n",
        "a = True\n",
        "b = False\n",
        "logical_operators_demo(a, b)\n"
      ],
      "metadata": {
        "colab": {
          "base_uri": "https://localhost:8080/"
        },
        "id": "Ah8ySOWDP8pP",
        "outputId": "a753ddca-87c8-4a3f-a70c-e1e98423b95a"
      },
      "execution_count": 3,
      "outputs": [
        {
          "output_type": "stream",
          "name": "stdout",
          "text": [
            "Values: a = True, b = False\n",
            "a and b: False\n",
            "a or b: True\n",
            "not a: False\n",
            "not b: True\n"
          ]
        }
      ]
    },
    {
      "cell_type": "markdown",
      "source": [
        "8. Write a Python program to convert user input from string to integer, float, and boolean types"
      ],
      "metadata": {
        "id": "Gpbk0wzUQYMe"
      }
    },
    {
      "cell_type": "code",
      "source": [
        "def convert_user_input():\n",
        "    user_input = input(\"Enter a value: \")\n",
        "\n",
        "    # Convert to integer\n",
        "    try:\n",
        "        int_value = int(user_input)\n",
        "        print(f\"Converted to Integer: {int_value}\")\n",
        "    except ValueError:\n",
        "        print(\"Invalid input for integer conversion.\")\n",
        "\n",
        "    # Convert to float\n",
        "    try:\n",
        "        float_value = float(user_input)\n",
        "        print(f\"Converted to Float: {float_value}\")\n",
        "    except ValueError:\n",
        "        print(\"Invalid input for float conversion.\")\n",
        "\n",
        "    bool_value = bool(user_input)\n",
        "    print(f\"Converted to Boolean: {bool_value}\")\n",
        "\n",
        "# Main execution\n",
        "if __name__ == \"__main__\":\n",
        "    convert_user_input()"
      ],
      "metadata": {
        "colab": {
          "base_uri": "https://localhost:8080/"
        },
        "id": "9e1nCnd6QdmV",
        "outputId": "2d78b933-ca20-486c-a27b-eb7b62703ad7"
      },
      "execution_count": 4,
      "outputs": [
        {
          "output_type": "stream",
          "name": "stdout",
          "text": [
            "Enter a value: 25.5\n",
            "Invalid input for integer conversion.\n",
            "Converted to Float: 25.5\n",
            "Converted to Boolean: True\n"
          ]
        }
      ]
    },
    {
      "cell_type": "markdown",
      "source": [
        "9. Write code to demonstrate type casting with list elements."
      ],
      "metadata": {
        "id": "P3MVIG7cRb2O"
      }
    },
    {
      "cell_type": "code",
      "source": [
        "def type_casting_demo():\n",
        "    mixed_list = [\"1\", \"2\", \"3.5\", \"4\", \"5.0\", \"hello\"]\n",
        "\n",
        "    # Convert string elements to integers and floats\n",
        "    int_list = []\n",
        "    float_list = []\n",
        "\n",
        "    for item in mixed_list:\n",
        "        # Attempt to convert to integer\n",
        "        try:\n",
        "            int_value = int(item)\n",
        "            int_list.append(int_value)\n",
        "        except ValueError:\n",
        "            print(f\"'{item}' cannot be converted to an integer.\")\n",
        "\n",
        "        # Attempt to convert to float\n",
        "        try:\n",
        "            float_value = float(item)\n",
        "            float_list.append(float_value)\n",
        "        except ValueError:\n",
        "            print(f\"'{item}' cannot be converted to a float.\")\n",
        "\n",
        "    # Display results\n",
        "    print(\"\\nOriginal List:\")\n",
        "    print(mixed_list)\n",
        "\n",
        "    print(\"\\nConverted List of Integers:\")\n",
        "    print(int_list)\n",
        "\n",
        "    print(\"\\nConverted List of Floats:\")\n",
        "    print(float_list)\n",
        "\n",
        "# Main execution\n",
        "if __name__ == \"__main__\":\n",
        "    type_casting_demo()"
      ],
      "metadata": {
        "colab": {
          "base_uri": "https://localhost:8080/"
        },
        "id": "I86CdmWfSMVK",
        "outputId": "7a77abbd-aef5-4e60-8f7e-40aa1f517565"
      },
      "execution_count": 5,
      "outputs": [
        {
          "output_type": "stream",
          "name": "stdout",
          "text": [
            "'3.5' cannot be converted to an integer.\n",
            "'5.0' cannot be converted to an integer.\n",
            "'hello' cannot be converted to an integer.\n",
            "'hello' cannot be converted to a float.\n",
            "\n",
            "Original List:\n",
            "['1', '2', '3.5', '4', '5.0', 'hello']\n",
            "\n",
            "Converted List of Integers:\n",
            "[1, 2, 4]\n",
            "\n",
            "Converted List of Floats:\n",
            "[1.0, 2.0, 3.5, 4.0, 5.0]\n"
          ]
        }
      ]
    },
    {
      "cell_type": "markdown",
      "source": [
        "10. Write a program that checks if a number is positive, negative, or zero."
      ],
      "metadata": {
        "id": "SIHGFB2bSokW"
      }
    },
    {
      "cell_type": "code",
      "source": [
        "def check_number(num):\n",
        "   if num > 0:\n",
        "        print(f\"{num} is a positive number.\")\n",
        "    elif num < 0:\n",
        "        print(f\"{num} is a negative number.\")\n",
        "    else:\n",
        "        print(f\"{num} is zero.\")\n",
        "\n",
        "    user_input = float(input(\"Enter a number: \"))\n",
        "    check_number(user_input)\n",
        "except ValueError:\n",
        "    print(\"Invalid input! Please enter a valid number.\")"
      ],
      "metadata": {
        "colab": {
          "base_uri": "https://localhost:8080/"
        },
        "id": "M1cGuvDeSuR2",
        "outputId": "126f0560-09b2-4a7d-e375-bf5d36504698"
      },
      "execution_count": 6,
      "outputs": [
        {
          "output_type": "stream",
          "name": "stdout",
          "text": [
            "Enter a number: 67\n",
            "67.0 is a positive number.\n"
          ]
        }
      ]
    },
    {
      "cell_type": "markdown",
      "source": [
        " 11. Write a for loop to print numbers from 1 to 10."
      ],
      "metadata": {
        "id": "0EHVDuujT58u"
      }
    },
    {
      "cell_type": "code",
      "source": [
        "for number in range(1, 11):\n",
        "    print(number)"
      ],
      "metadata": {
        "colab": {
          "base_uri": "https://localhost:8080/"
        },
        "id": "5HdBW6UiT-XN",
        "outputId": "67816476-12e3-49fc-e6b2-ec66eac93afe"
      },
      "execution_count": 7,
      "outputs": [
        {
          "output_type": "stream",
          "name": "stdout",
          "text": [
            "1\n",
            "2\n",
            "3\n",
            "4\n",
            "5\n",
            "6\n",
            "7\n",
            "8\n",
            "9\n",
            "10\n"
          ]
        }
      ]
    },
    {
      "cell_type": "markdown",
      "source": [
        "12. Write a Python program to find the sum of all even numbers between 1 and 50."
      ],
      "metadata": {
        "id": "p5_5JCC6VAOu"
      }
    },
    {
      "cell_type": "code",
      "source": [
        "sum_even = sum(i for i in range(2, 51, 2))\n",
        "print(f\"Sum of all even numbers between 1 and 50: {sum_even}\")\n"
      ],
      "metadata": {
        "colab": {
          "base_uri": "https://localhost:8080/"
        },
        "id": "Uov0IIvtVImm",
        "outputId": "d5bbd025-c08e-496b-a470-7b372a583d40"
      },
      "execution_count": 10,
      "outputs": [
        {
          "output_type": "stream",
          "name": "stdout",
          "text": [
            "Sum of all even numbers between 1 and 50: 650\n"
          ]
        }
      ]
    },
    {
      "cell_type": "markdown",
      "source": [
        "13. Write a program to reverse a string using a while loop."
      ],
      "metadata": {
        "id": "XGqiwFLiV2Kw"
      }
    },
    {
      "cell_type": "code",
      "source": [
        "def reverse_string():\n",
        "    original_string = input(\"Enter a string to reverse: \")\n",
        "\n",
        "    reversed_string = \"\"\n",
        "    index = len(original_string) - 1\n",
        "    while index >= 0:\n",
        "        reversed_string += original_string[index]\n",
        "        index -= 1\n",
        "    return reversed_string\n",
        "\n",
        "if __name__ == \"__main__\":\n",
        "    result = reverse_string()\n",
        "    print(f\"Reversed string: {result}\")\n"
      ],
      "metadata": {
        "colab": {
          "base_uri": "https://localhost:8080/"
        },
        "id": "PJAc_KLEV9ct",
        "outputId": "fc50295b-b813-4c2e-8211-939f85894705"
      },
      "execution_count": 12,
      "outputs": [
        {
          "output_type": "stream",
          "name": "stdout",
          "text": [
            "Enter a string to reverse: sushmita\n",
            "Reversed string: atimhsus\n"
          ]
        }
      ]
    },
    {
      "cell_type": "markdown",
      "source": [
        "14.  Write a Python program to calculate the factorial of a number provided by the user using a while loop."
      ],
      "metadata": {
        "id": "jlDuD_zYWzue"
      }
    },
    {
      "cell_type": "code",
      "source": [
        "def calculate_factorial():\n",
        "    try:\n",
        "        number = int(input(\"Enter a non-negative integer to calculate its factorial: \"))\n",
        "        if number < 0:\n",
        "            print(\"Factorial is not defined for negative numbers.\")\n",
        "            return\n",
        "    except ValueError:\n",
        "        print(\"Invalid input. Please enter a valid non-negative integer.\")\n",
        "        return\n",
        "\n",
        "    factorial = 1\n",
        "    count = 1\n",
        "\n",
        "    while count <= number:\n",
        "        factorial *= count\n",
        "        count += 1\n",
        "\n",
        "    return factorial\n",
        "\n",
        "if __name__ == \"__main__\":\n",
        "    result = calculate_factorial()\n",
        "    if result is not None:\n",
        "        print(f\"The factorial is: {result}\")"
      ],
      "metadata": {
        "colab": {
          "base_uri": "https://localhost:8080/"
        },
        "id": "gxhoXFfcW4fw",
        "outputId": "19bd5558-1520-4a8c-8865-36fd8250ca6d"
      },
      "execution_count": 14,
      "outputs": [
        {
          "output_type": "stream",
          "name": "stdout",
          "text": [
            "Enter a non-negative integer to calculate its factorial: 3.1\n",
            "Invalid input. Please enter a valid non-negative integer.\n"
          ]
        }
      ]
    }
  ],
  "metadata": {
    "colab": {
      "provenance": []
    },
    "kernelspec": {
      "display_name": "Python 3",
      "name": "python3"
    },
    "language_info": {
      "name": "python"
    }
  },
  "nbformat": 4,
  "nbformat_minor": 0
}